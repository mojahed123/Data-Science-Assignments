{
 "cells": [
  {
   "cell_type": "markdown",
   "metadata": {},
   "source": [
    "<center><h1 style='color:red'>حساب محيط الدائرة</h1></center>"
   ]
  },
  {
   "cell_type": "code",
   "execution_count": 8,
   "metadata": {},
   "outputs": [
    {
     "name": "stdout",
     "output_type": "stream",
     "text": [
      "الرجاء ادخال قطر الدائره... ١٠\n",
      "محيط الدائرة هو 31.400000000000002سم\n"
     ]
    }
   ],
   "source": [
    "'''\n",
    "قانون مساحة الدائرةمحيط الدّائرة=\n",
    "2×نصف القطر× * π\n",
    "π=3.14\n",
    "'''\n",
    "radius=float(input(\"الرجاء ادخال قطر الدائره... \"))\n",
    "half_radius=radius/2\n",
    "circumference_circle=2 * 3.14 * half_radius\n",
    "print(\"محيط الدائرة هو\" + \" \" + str(circumference_circle)+\"سم\")"
   ]
  },
  {
   "cell_type": "code",
   "execution_count": null,
   "metadata": {},
   "outputs": [],
   "source": []
  }
 ],
 "metadata": {
  "kernelspec": {
   "display_name": "Python 3",
   "language": "python",
   "name": "python3"
  },
  "language_info": {
   "codemirror_mode": {
    "name": "ipython",
    "version": 3
   },
   "file_extension": ".py",
   "mimetype": "text/x-python",
   "name": "python",
   "nbconvert_exporter": "python",
   "pygments_lexer": "ipython3",
   "version": "3.7.6"
  }
 },
 "nbformat": 4,
 "nbformat_minor": 4
}
