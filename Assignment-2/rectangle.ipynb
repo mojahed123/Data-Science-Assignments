{
 "cells": [
  {
   "cell_type": "markdown",
   "metadata": {},
   "source": [
    "<center><h1 style='color:red'>حساب محيط المستطيل</h1></center>"
   ]
  },
  {
   "cell_type": "code",
   "execution_count": 7,
   "metadata": {},
   "outputs": [
    {
     "name": "stdout",
     "output_type": "stream",
     "text": [
      "الرجاء ادخال طول مستطيل... 10\n",
      "الرجاء ادخال عرض مستطيل... 10\n",
      "محيط المستطيل هو  40.0سم\n"
     ]
    }
   ],
   "source": [
    "'''\n",
    "circumference_Rectangle=2 *hight + 2 * width\n",
    "'''\n",
    "height=float(input(\"الرجاء ادخال طول مستطيل... \"))\n",
    "width=float(input(\"الرجاء ادخال عرض مستطيل... \"))\n",
    "circumference_rectan=(2 * height) + (2* width)\n",
    "print(\"محيط المستطيل هو \" + \" \" + str(circumference_rectan)+\"سم\")"
   ]
  },
  {
   "cell_type": "code",
   "execution_count": null,
   "metadata": {},
   "outputs": [],
   "source": []
  }
 ],
 "metadata": {
  "kernelspec": {
   "display_name": "Python 3",
   "language": "python",
   "name": "python3"
  },
  "language_info": {
   "codemirror_mode": {
    "name": "ipython",
    "version": 3
   },
   "file_extension": ".py",
   "mimetype": "text/x-python",
   "name": "python",
   "nbconvert_exporter": "python",
   "pygments_lexer": "ipython3",
   "version": "3.7.6"
  }
 },
 "nbformat": 4,
 "nbformat_minor": 4
}
